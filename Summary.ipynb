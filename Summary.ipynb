{
 "cells": [
  {
   "cell_type": "markdown",
   "metadata": {},
   "source": [
    "## Importing dependencies"
   ]
  },
  {
   "cell_type": "code",
   "execution_count": 31,
   "metadata": {},
   "outputs": [
    {
     "ename": "AttributeError",
     "evalue": "module '__main__' has no attribute '__file__'",
     "output_type": "error",
     "traceback": [
      "\u001b[0;31m---------------------------------------------------------------------------\u001b[0m",
      "\u001b[0;31mAttributeError\u001b[0m                            Traceback (most recent call last)",
      "\u001b[0;32m<ipython-input-31-cb8c8e58658b>\u001b[0m in \u001b[0;36m<module>\u001b[0;34m()\u001b[0m\n\u001b[1;32m      3\u001b[0m \u001b[0;32mimport\u001b[0m \u001b[0mos\u001b[0m\u001b[0;34m\u001b[0m\u001b[0m\n\u001b[1;32m      4\u001b[0m \u001b[0;32mimport\u001b[0m \u001b[0msys\u001b[0m\u001b[0;34m\u001b[0m\u001b[0m\n\u001b[0;32m----> 5\u001b[0;31m \u001b[0mos\u001b[0m\u001b[0;34m.\u001b[0m\u001b[0mpath\u001b[0m\u001b[0;34m.\u001b[0m\u001b[0mdirname\u001b[0m\u001b[0;34m(\u001b[0m\u001b[0msys\u001b[0m\u001b[0;34m.\u001b[0m\u001b[0mmodules\u001b[0m\u001b[0;34m[\u001b[0m\u001b[0;34m'__main__'\u001b[0m\u001b[0;34m]\u001b[0m\u001b[0;34m.\u001b[0m\u001b[0m__file__\u001b[0m\u001b[0;34m)\u001b[0m\u001b[0;34m\u001b[0m\u001b[0m\n\u001b[0m",
      "\u001b[0;31mAttributeError\u001b[0m: module '__main__' has no attribute '__file__'"
     ]
    }
   ],
   "source": [
    "import json\n",
    "from order import Order\n",
    "import os"
   ]
  },
  {
   "cell_type": "markdown",
   "metadata": {},
   "source": [
    "## Loading data\n",
    "Train, dev and test sets for 6 languages"
   ]
  },
  {
   "cell_type": "code",
   "execution_count": 11,
   "metadata": {
    "collapsed": true
   },
   "outputs": [],
   "source": [
    "languages = ['en', 'fr', 'es', 'pt', 'nl', 'it'] # languages for which the model works\n",
    "train_path, dev_path, test_path = 'data/json/train', 'data/json/dev', 'data/json/test'\n",
    "trainset, devset, testset = {}, {}, {}\n",
    "\n",
    "for lng in languages:\n",
    "    trainset[lng] = json.load(open(os.path.join(train_path, ''.join([lng, '.json']))))\n",
    "    devset[lng] = json.load(open(os.path.join(dev_path, ''.join([lng, '.json']))))\n",
    "    testset[lng] = json.load(open(os.path.join(test_path, ''.join([lng, '.json']))))"
   ]
  },
  {
   "cell_type": "markdown",
   "metadata": {},
   "source": [
    "## Format of each instance\n",
    "\n",
    "Each instance (in each language) consists of three fields: \n",
    "\n",
    "**sent_id:** sentence id in the corpus\n",
    "\n",
    "**text:** gold-standard text\n",
    "\n",
    "**tree:** tree structure (most relevant field)"
   ]
  },
  {
   "cell_type": "code",
   "execution_count": 14,
   "metadata": {},
   "outputs": [
    {
     "data": {
      "text/plain": [
       "dict_keys(['text', 'tree', 'sent_id'])"
      ]
     },
     "execution_count": 14,
     "metadata": {},
     "output_type": "execute_result"
    }
   ],
   "source": [
    "lng = 'en'\n",
    "devset[lng][0].keys()"
   ]
  },
  {
   "cell_type": "markdown",
   "metadata": {},
   "source": [
    "### Tree Structure\n",
    "\n",
    "Nodes"
   ]
  },
  {
   "cell_type": "code",
   "execution_count": 28,
   "metadata": {},
   "outputs": [
    {
     "name": "stdout",
     "output_type": "stream",
     "text": [
      "===NODES===\n",
      "3 {'upos': 'VERB', 'head': '0', 'xpos': 'VBZ', 'id': '3', 'lemma': 'come', 'feats': {'Number': 'Sing', 'Tense': 'Pres', 'Mood': 'Ind', 'VerbForm': 'Fin', 'Person': '3'}, 'deps': 'root'} \n",
      "\n",
      "4 {'upos': 'DET', 'head': '5', 'xpos': 'DT', 'id': '4', 'lemma': 'the', 'feats': {'PronType': 'Art', 'Definite': 'Def'}, 'deps': 'det'} \n",
      "\n",
      "6 {'upos': 'ADP', 'head': '5', 'xpos': 'IN', 'id': '6', 'lemma': 'from', 'feats': {}, 'deps': 'case'} \n",
      "\n",
      "5 {'upos': 'PROPN', 'head': '3', 'xpos': 'NNP', 'id': '5', 'lemma': 'AP', 'feats': {'Number': 'Sing'}, 'deps': 'obl'} \n",
      "\n",
      "1 {'upos': 'NOUN', 'head': '3', 'xpos': 'NN', 'id': '1', 'lemma': 'story', 'feats': {'Number': 'Sing'}, 'deps': 'nsubj'} \n",
      "\n",
      "2 {'upos': 'DET', 'head': '1', 'xpos': 'DT', 'id': '2', 'lemma': 'this', 'feats': {'Number': 'Sing', 'PronType': 'Dem'}, 'deps': 'det'} \n",
      "\n",
      "7 {'upos': 'PUNCT', 'head': '3', 'xpos': ':', 'id': '7', 'lemma': ':', 'feats': {}, 'deps': 'punct'} \n",
      "\n"
     ]
    }
   ],
   "source": [
    "tree = devset[lng][0]['tree']\n",
    "print('===NODES===')\n",
    "for node in tree['nodes']:\n",
    "    print(node, tree['nodes'][node], '\\n')"
   ]
  },
  {
   "cell_type": "markdown",
   "metadata": {},
   "source": [
    "Edges\n",
    "\n",
    "**deps:** label of the dependency edge\n",
    "\n",
    "**node:** id of the child node"
   ]
  },
  {
   "cell_type": "code",
   "execution_count": 29,
   "metadata": {},
   "outputs": [
    {
     "name": "stdout",
     "output_type": "stream",
     "text": [
      "===EDGES===\n",
      "3 [{'deps': 'nsubj', 'node': '1'}, {'deps': 'obl', 'node': '5'}, {'deps': 'punct', 'node': '7'}]\n",
      "4 []\n",
      "6 []\n",
      "5 [{'deps': 'det', 'node': '4'}, {'deps': 'case', 'node': '6'}]\n",
      "1 [{'deps': 'det', 'node': '2'}]\n",
      "2 []\n",
      "7 []\n"
     ]
    }
   ],
   "source": [
    "print('===EDGES===')\n",
    "for head in tree['edges']:\n",
    "    print(head, tree['edges'][head])"
   ]
  },
  {
   "cell_type": "markdown",
   "metadata": {},
   "source": [
    "## Ordering\n",
    "\n",
    "Instantiate `Order` class, giving the paths for both maximum entropy classifiers (`clf_step1` and `clf_sort_step`)\n",
    "\n",
    "The `pred_order_id` field is created in each node of the tree, indicating its order in a linearized string\n",
    "\n",
    "**MAKE SURE TO REMOVE PUNTUATION NODES**"
   ]
  },
  {
   "cell_type": "code",
   "execution_count": null,
   "metadata": {
    "collapsed": true
   },
   "outputs": [],
   "source": [
    "clf_step1 = 'data/models/en_clf_step1.cPickle' # English first maximum entropy classifier\n",
    "clf_sort_step = 'data/models/en_clf_step2.cPickle' # English second maximum entropy classifier\n",
    "order = Order(clf_step1, clf_sort_step)\n",
    "\n",
    "tree = devset['en'][0]['tree']\n",
    "ordered_tree = order.process(tree)\n",
    "\n",
    "print('==Non-ordered linearized tree')\n",
    "print(list(map(lambda node: tree['nodes'][node]['lemma'], tree['nodes'])))\n",
    "\n",
    "print('==Ordered linearized tree')\n",
    "nodes = sorted(tree['nodes'].keys(), key=lambda node:tree['nodes'][node]['pred_order_id'])\n",
    "print(list(map(lambda node: tree['nodes'][node]['lemma'], nodes)))"
   ]
  }
 ],
 "metadata": {
  "kernelspec": {
   "display_name": "Python 3",
   "language": "python",
   "name": "python3"
  },
  "language_info": {
   "codemirror_mode": {
    "name": "ipython",
    "version": 3
   },
   "file_extension": ".py",
   "mimetype": "text/x-python",
   "name": "python",
   "nbconvert_exporter": "python",
   "pygments_lexer": "ipython3",
   "version": "3.5.3"
  }
 },
 "nbformat": 4,
 "nbformat_minor": 2
}
